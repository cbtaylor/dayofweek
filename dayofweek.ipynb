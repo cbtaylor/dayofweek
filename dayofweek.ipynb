{
 "cells": [
  {
   "cell_type": "code",
   "execution_count": 276,
   "metadata": {},
   "outputs": [],
   "source": [
    "import random\n",
    "months = ['January', 'February', 'March', 'April', 'May', 'June', 'July', 'August', 'September', 'October', 'November', 'December']\n",
    "days = [31, 28, 31, 30, 31, 30, 31, 31, 30, 31, 30, 31]\n",
    "dotws = ['Sunday', 'Monday', 'Tuesday', 'Wednesday', 'Thursday', 'Friday', 'Saturday']"
   ]
  },
  {
   "cell_type": "code",
   "execution_count": 277,
   "metadata": {},
   "outputs": [],
   "source": [
    "def isleap(yr):\n",
    "    if yr%4 != 0:\n",
    "        return 0\n",
    "    elif yr in [1800, 1900, 2100]:\n",
    "        return 0\n",
    "    else:\n",
    "        return 1"
   ]
  },
  {
   "cell_type": "code",
   "execution_count": 278,
   "metadata": {},
   "outputs": [],
   "source": [
    "def getday():\n",
    "    year = random.randint(1753,2199)\n",
    "    month = random.randint(1,12)\n",
    "    if month == 2:\n",
    "        length = 28 + isleap(year)\n",
    "    else:\n",
    "        length = days[month-1]\n",
    "    day = random.randint(1,length)\n",
    "    return(month, day, year)"
   ]
  },
  {
   "cell_type": "code",
   "execution_count": 279,
   "metadata": {},
   "outputs": [],
   "source": [
    "def printdate(day):\n",
    "    date = \"\"\n",
    "    date += months[day[0]-1] + \" \" +str(day[1]) + \", \" + str(day[2])\n",
    "    return date"
   ]
  },
  {
   "cell_type": "code",
   "execution_count": 280,
   "metadata": {},
   "outputs": [],
   "source": [
    "def dayofweek(day):\n",
    "    month = day[0]\n",
    "    century = day[2]//100\n",
    "    year = day[2]%100 \n",
    "    dotw = [5, 1, 1, 4, 6, 2, 4, 0, 3, 5, 1, 3][day[0]-1] + day[1] + year + year//4 + 1 + [5, 3, 1, 0, 5][century - 17]\n",
    "    if day[0] < 3 and isleap(day[2]):\n",
    "        dotw -= 1\n",
    "    return dotws[dotw%7]"
   ]
  },
  {
   "cell_type": "code",
   "execution_count": 320,
   "metadata": {},
   "outputs": [
    {
     "name": "stdout",
     "output_type": "stream",
     "text": [
      "November 9, 1858\n"
     ]
    }
   ],
   "source": [
    "day = getday()\n",
    "print(printdate(day))"
   ]
  },
  {
   "cell_type": "code",
   "execution_count": 321,
   "metadata": {},
   "outputs": [
    {
     "name": "stdout",
     "output_type": "stream",
     "text": [
      "Tuesday\n"
     ]
    }
   ],
   "source": [
    "print(dayofweek(day))"
   ]
  },
  {
   "cell_type": "code",
   "execution_count": null,
   "metadata": {},
   "outputs": [],
   "source": []
  },
  {
   "cell_type": "code",
   "execution_count": null,
   "metadata": {},
   "outputs": [],
   "source": []
  }
 ],
 "metadata": {
  "kernelspec": {
   "display_name": "Python 3",
   "language": "python",
   "name": "python3"
  },
  "language_info": {
   "codemirror_mode": {
    "name": "ipython",
    "version": 3
   },
   "file_extension": ".py",
   "mimetype": "text/x-python",
   "name": "python",
   "nbconvert_exporter": "python",
   "pygments_lexer": "ipython3",
   "version": "3.7.1"
  }
 },
 "nbformat": 4,
 "nbformat_minor": 2
}
